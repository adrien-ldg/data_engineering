{
 "cells": [
  {
   "cell_type": "markdown",
   "metadata": {},
   "source": [
    "# Introduction"
   ]
  },
  {
   "cell_type": "markdown",
   "metadata": {},
   "source": [
    "Avant de commencer, parcourer le fichier README.rst"
   ]
  },
  {
   "cell_type": "markdown",
   "metadata": {},
   "source": [
    "# Requête HTTP "
   ]
  },
  {
   "cell_type": "markdown",
   "metadata": {},
   "source": [
    "Un requête HTTP est une requête basé sur le protocole TCP, elle fait partie de la couche application de la couche OSI. Elle permet d'accéder aux données mise à disposition sur une adresse IP (ou url résolue par un DNS) et un port. \n",
    "\n",
    "Les deux ports les plus utilisé dans le web sont le 80 pour les sites en HTTP et le 443 pour les sites en HTTPS. HTTPS est une variable du protocole HTTP basé sur le protocole TLS.\n",
    "\n",
    "Il existe de nombreux types de requêtes selon la convention `REST`: \n",
    "- GET\n",
    "- POST\n",
    "- PUT \n",
    "- DELETE\n",
    "- UPDATE.\n",
    "\n",
    "Dans notre cas nous allons utiliser la plupart du temps des GET et potentiellement des POST. \n",
    "- Le GET permet comme sont nom l'indique de récupérer des informations en fonction de certain paramètres. \n",
    "- Le POST nécéssite un envoie de données pour récupérer des données. Le body du post est, la plupart du temps, envoyé sous la forme d'un objet JSON.\n",
    "\n",
    "Ces requêtes encapsulent un certain nombre de paramètres qui permettent soient d'identifier une provenance et un utilisateur ou de réaliser différentes actions."
   ]
  },
  {
   "cell_type": "code",
   "execution_count": 1,
   "metadata": {
    "tags": []
   },
   "outputs": [],
   "source": [
    "import requests"
   ]
  },
  {
   "cell_type": "code",
   "execution_count": 2,
   "metadata": {
    "tags": []
   },
   "outputs": [
    {
     "data": {
      "text/plain": [
       "200"
      ]
     },
     "execution_count": 2,
     "metadata": {},
     "output_type": "execute_result"
    }
   ],
   "source": [
    "url = \"http://www.esiee.fr/\"\n",
    "response = requests.get(url)\n",
    "response.status_code"
   ]
  },
  {
   "cell_type": "markdown",
   "metadata": {},
   "source": [
    "Il existe deux méthodes pour récupérer le contenu de la page :\n",
    "\n",
    "- `response.text` qui permet de retourner le texte sous la forme d'une chaine de charactères.\n",
    "- `response.content` qui permet de récupérer le contenu de la page sous la forme de bytes"
   ]
  },
  {
   "cell_type": "code",
   "execution_count": 3,
   "metadata": {
    "tags": []
   },
   "outputs": [
    {
     "data": {
      "text/plain": [
       "bytes"
      ]
     },
     "execution_count": 3,
     "metadata": {},
     "output_type": "execute_result"
    }
   ],
   "source": [
    "type(response.content)"
   ]
  },
  {
   "cell_type": "code",
   "execution_count": 4,
   "metadata": {
    "tags": []
   },
   "outputs": [
    {
     "data": {
      "text/plain": [
       "str"
      ]
     },
     "execution_count": 4,
     "metadata": {},
     "output_type": "execute_result"
    }
   ],
   "source": [
    "type(response.text)"
   ]
  },
  {
   "cell_type": "markdown",
   "metadata": {},
   "source": [
    "Pour récupérer les 1000 premiers charactères de la page :"
   ]
  },
  {
   "cell_type": "code",
   "execution_count": 5,
   "metadata": {
    "tags": []
   },
   "outputs": [
    {
     "data": {
      "text/plain": [
       "'<!DOCTYPE html>\\n<html lang=\"fr-FR\">\\n<head>\\n\\n<meta charset=\"utf-8\">\\n<!-- \\n\\tThis website is powered by TYPO3 - inspiring people to share!\\n\\tTYPO3 is a free open source Content Management Framework initially created by Kasper Skaarhoj and licensed under GNU/GPL.\\n\\tTYPO3 is copyright 1998-2023 of Kasper Skaarhoj. Extensions are copyright of their respective owners.\\n\\tInformation and contribution at https://typo3.org/\\n-->\\n\\n\\n\\n<title>ESIEE Paris, l&#039;école de l&#039;innovation technologique | ESIEE Paris</title>\\n<meta name=\"generator\" content=\"TYPO3 CMS\" />\\n<meta name=\"description\" content=\"Rejoignez ESIEE Paris, grande école d&#039;ingénieur dans les domaines des transitions numérique, énergétique et environnementale. Classée dans le groupe A, parmi les meilleures écoles d&#039;ingénieur selon le classement de l&#039;Etudiant. Habilitée par la Commission des Titres d&#039;Ingénieur (CTI). Membre de la Conférence des Grandes Ecoles (CGE). \" />\\n<meta name=\"viewport\" content=\"width=device-width'"
      ]
     },
     "execution_count": 5,
     "metadata": {},
     "output_type": "execute_result"
    }
   ],
   "source": [
    "response.text[0:1000]"
   ]
  },
  {
   "cell_type": "markdown",
   "metadata": {},
   "source": [
    "Pour récupérer les headers HTTP de la réponse :"
   ]
  },
  {
   "cell_type": "code",
   "execution_count": 6,
   "metadata": {
    "tags": []
   },
   "outputs": [
    {
     "data": {
      "text/plain": [
       "{'Date': 'Tue, 14 Nov 2023 13:12:22 GMT', 'Server': 'Apache', 'Content-Language': 'fr', 'Vary': 'Accept-Encoding', 'Content-Encoding': 'gzip', 'X-UA-Compatible': 'IE=edge', 'X-Content-Type-Options': 'nosniff', 'Content-Length': '15453', 'Content-Type': 'text/html; charset=utf-8', 'X-Varnish': '17586308 4544289', 'Age': '95', 'Via': '1.1 varnish (Varnish/7.1)', 'Accept-Ranges': 'bytes', 'Connection': 'keep-alive'}"
      ]
     },
     "execution_count": 6,
     "metadata": {},
     "output_type": "execute_result"
    }
   ],
   "source": [
    "response.headers"
   ]
  },
  {
   "cell_type": "markdown",
   "metadata": {},
   "source": [
    "On peut modifier les paramêtres de la requête et/ou ses headers. On peut par exemple ajouter un UserAgent et un timeout de 10 secondes:"
   ]
  },
  {
   "cell_type": "code",
   "execution_count": 7,
   "metadata": {
    "tags": []
   },
   "outputs": [
    {
     "data": {
      "text/plain": [
       "b'<!DOCTYPE html>\\n<html lang=\"fr-FR\">\\n<head>\\n\\n<meta charset=\"utf-8\">\\n<!-- \\n\\tThis website is powered by TYPO3 - inspiring people to share!\\n\\tTYPO3 is a free open source Content Management Framework initially created by Kasper Skaarhoj and licensed under GNU/GPL.\\n\\tTYPO3 is copyright 1998-2023 of Kasper Skaarhoj. Extensions are copyright of their respective owners.\\n\\tInformation and contribution at https://typo3.org/\\n-->\\n\\n\\n\\n<title>ESIEE Paris, l&#039;\\xc3\\xa9cole de l&#039;innovation technologique | ESIEE Paris</title>\\n<meta name=\"generator\" content=\"TYPO3 CMS\" />\\n<meta name=\"description\" content=\"Rejoignez ESIEE Paris, grande \\xc3\\xa9cole d&#039;ing\\xc3\\xa9nieur dans les domaines des transitions num\\xc3\\xa9rique, \\xc3\\xa9nerg\\xc3\\xa9tique et environnementale. Class\\xc3\\xa9e dans le groupe A, parmi les meilleures \\xc3\\xa9coles d&#039;ing\\xc3\\xa9nieur selon le classement de l&#039;Etudiant. Habilit\\xc3\\xa9e par la Commission des Titres d&#039;Ing\\xc3\\xa9nieur (CTI). Membre de la Conf\\xc3\\xa9rence des Grandes Ecoles (CGE). \" />\\n<meta name=\"viewport\" content=\"width='"
      ]
     },
     "execution_count": 7,
     "metadata": {},
     "output_type": "execute_result"
    }
   ],
   "source": [
    "headers = {'User-Agent': 'Mozilla/5.0 (Macintosh; Intel Mac OS X 10_10_1) AppleWebKit/537.36 (KHTML, like Gecko) Chrome/39.0.2171.95 Safari/537.36'}\n",
    "response = requests.get(url, headers=headers, timeout = 10)\n",
    "response.content[0:1000]"
   ]
  },
  {
   "cell_type": "markdown",
   "metadata": {},
   "source": [
    "## Exercice"
   ]
  },
  {
   "cell_type": "markdown",
   "metadata": {},
   "source": [
    "## Exercice 1\n",
    "\n",
    "- Créer une classe Python permettant de faire des requêtes HTTP.\n",
    "- Cette classe doit utiliser toujours le même UserAgent.\n",
    "- Le TimeOut sera spécifié à chaque appelle avec une valeur par défaut.\n",
    "- Un mécanisme de retry sera mis en place de façon recursive.\n"
   ]
  },
  {
   "cell_type": "markdown",
   "metadata": {},
   "source": [
    "## Exercice 2\n",
    "\n",
    "- Faire une fonction permettant de supprimer tous les espaces supperflus d'une string\n",
    "- Faire une fonction qui prend une string html et renvois une string intelligible (enlever les caractères spéciaux,\n",
    "- Récupérer le domaine en fonction d'un url"
   ]
  },
  {
   "cell_type": "code",
   "execution_count": 53,
   "metadata": {
    "tags": []
   },
   "outputs": [
    {
     "name": "stdout",
     "output_type": "stream",
     "text": [
      "<!DOCTYPE html> <html lang=\"fr-FR\"> <head> <meta charset=\"utf-8\"> <!-- This website is powered by TYPO3 - inspiring people to share! TYPO3 is a free open source Content Management Framework initially created by Kasper Skaarhoj and licensed under GNU/GPL. TYPO3 is copyright 1998-2023 of Kasper Skaarhoj. Extensions are copyright of their respective owners. Information and contribution at https://typo3.org/ --> <title>ESIEE Paris, l&#039;école de l&#039;innovation technologique | ESIEE Paris</title> <meta name=\"generator\" content=\"TYPO3 CMS\" /> <meta name=\"description\" content=\"Rejoignez ESIEE Paris, grande école d&#039;ingénieur dans les domaines des transitions numérique, énergétique et environnementale. Classée dans le groupe A, parmi les meilleures écoles d&#039;ingénieur selon le classement de l&#039;Etudiant. Habilitée par la Commission des Titres d&#039;Ingénieur (CTI). Membre de la Conférence des Grandes Ecoles (CGE). \" /> <meta name=\"viewport\" content=\"width=device-width, user-sc\n",
      "------------------------------------------------------------------------------------------------------------------------------------------------------------------------------------\n",
      "ESIEE Paris, l'école de l'innovation technologique | ESIEE Paris Aller au contenu Aller au menu Plan du site Bien choisir son école, c'est aussi la rencontrer ! Rendez-vous à la prochaine journée portes ouvertes le 9 décembre. Masquer l'alerte Brochures Espace élèves Fr En Afficher Masquer la recherche Saisissez votre recherche : Lancer la recherche Candidater Afficher Masquer le menu Retour au menu principal Afficher Masquer le sous menu : L'école Pourquoi choisir ESIEE Paris ? Afficher Masquer le sous menu : Gouvernance et conseils Gouvernance et conseils Afficher Masquer le sous menu : Départements d'enseignements et de recherche Informatique et télécommunications Ingénierie des systèmes cyberphysiques Ingénierie industrielle Santé, énergie et environnement durable Management, sciences humaines et langues Corps professoral Afficher Masquer le sous menu : Salles blanches Salles blanches Équipements et procédés Formation Recherche Collaborations industrielles Afficher Masquer le sous \n",
      "------------------------------------------------------------------------------------------------------------------------------------------------------------------------------------\n",
      "www.esiee.fr\n"
     ]
    }
   ],
   "source": [
    "import requests\n",
    "from bs4 import BeautifulSoup\n",
    "import re\n",
    "from urllib.parse import urlparse\n",
    "\n",
    "class HTTPrequest:\n",
    "    \n",
    "    def __init__(self, timeOut = 10, retry = 3):\n",
    "        self.UserAgent = 'Mozilla/5.0 (Windows NT 6.1; Win64; x64; rv:47.0) Gecko/20100101 Firefox/47.0'\n",
    "        self.timeOut = timeOut\n",
    "        self.retry = retry\n",
    "        self.response = None\n",
    "        self.html_txt = \"\"\n",
    "        self.txt = \"\"\n",
    "        \n",
    "    \n",
    "    \n",
    "    def make_request(self, url):\n",
    "        try:\n",
    "            self.response = requests.get(\n",
    "                url,\n",
    "                headers = {'User-Agent': self.UserAgent},\n",
    "                timeout=self.timeOut,\n",
    "            )\n",
    "            self.response.raise_for_status()\n",
    "            self.html_txt = self.response.text\n",
    "        except requests.exceptions.RequestException as e:\n",
    "            if self.retry > 0:\n",
    "                print(f\"Request failed. Retrying... ({retries} retries remaining)\")\n",
    "                self.retry -= 1\n",
    "                return self.make_request(url)\n",
    "            else:\n",
    "                print(\"Maximum retries reached. Request failed.\")\n",
    "                raise e\n",
    "                \n",
    "    def remove_extra_spaces(self):\n",
    "        return ' '.join(self.html_txt.split())\n",
    "    \n",
    "    def clean_html(self):\n",
    "        soup = BeautifulSoup(self.html_txt, 'html.parser')\n",
    "        text_content = soup.get_text(separator=' ')\n",
    "        self.text =  re.sub(r'\\s+', ' ', text_content).strip()\n",
    "        return self.text\n",
    "    \n",
    "    def get_domain_from_url(self, url):\n",
    "        parsed_url = urlparse(url)\n",
    "        return parsed_url.netloc\n",
    "\n",
    "        \n",
    "\n",
    "\n",
    "url = \"http://www.esiee.fr/\"\n",
    "http_requester = HTTPrequest()\n",
    "response = http_requester.make_request(url)\n",
    "print(http_requester.remove_extra_spaces()[:1000])\n",
    "print(\"-\"*180)\n",
    "print(http_requester.clean_html()[:1000])\n",
    "print(\"-\"*180)\n",
    "print(http_requester.get_domain_from_url(url))"
   ]
  },
  {
   "cell_type": "markdown",
   "metadata": {},
   "source": [
    "# Exploitation du HTML  "
   ]
  },
  {
   "cell_type": "markdown",
   "metadata": {},
   "source": [
    "Ici, il faut récupérer le code HTML d'un site web à partir d'une requête. Lorsque vous avez récupéré le texte d'un site il faut le parser. Pour cela, on utilise BeautifulSoup qui permet de transformer la structure HTML en objet Python. Cela permet de récupérer efficacement les données qui nous intéresse.\n",
    "\n",
    "Pour les webmasters, le blocage le plus souvent mis en place et un blocage sur le User-Agent. Le User-Agent est un paramètre intégré dans la requête HTTP réalisé par le Navigateur pour envoyer au front des informations basiques :\n",
    "\n",
    "- la version du Navigateur,\n",
    "- la version de l'OS\n",
    "- Le type de gestionnaire graphique (Gecko)\n",
    "- le type de device utilisé"
   ]
  },
  {
   "cell_type": "markdown",
   "metadata": {},
   "source": [
    "Exemple de User Agent :  \n",
    "\n",
    "`Mozilla/5.0 (Windows NT 6.1; Win64; x64; rv:47.0) Gecko/20100101 Firefox/47.0`"
   ]
  },
  {
   "cell_type": "markdown",
   "metadata": {},
   "source": [
    "Commençons à utiliser `BeautifulSoup`, pour l'installer : "
   ]
  },
  {
   "cell_type": "code",
   "execution_count": 8,
   "metadata": {
    "tags": []
   },
   "outputs": [
    {
     "name": "stdout",
     "output_type": "stream",
     "text": [
      "Collecting bs4\n",
      "  Downloading bs4-0.0.1.tar.gz (1.1 kB)\n",
      "  Preparing metadata (setup.py): started\n",
      "  Preparing metadata (setup.py): finished with status 'done'\n",
      "Requirement already satisfied: beautifulsoup4 in c:\\users\\adrie\\anaconda3\\lib\\site-packages (from bs4) (4.12.2)\n",
      "Requirement already satisfied: soupsieve>1.2 in c:\\users\\adrie\\anaconda3\\lib\\site-packages (from beautifulsoup4->bs4) (2.4)\n",
      "Building wheels for collected packages: bs4\n",
      "  Building wheel for bs4 (setup.py): started\n",
      "  Building wheel for bs4 (setup.py): finished with status 'done'\n",
      "  Created wheel for bs4: filename=bs4-0.0.1-py3-none-any.whl size=1264 sha256=eff975962ee5027fdc2aa0a6eea0c9f1c3fa6ca6e627f1b047c12b6e9bad62d8\n",
      "  Stored in directory: c:\\users\\adrie\\appdata\\local\\pip\\cache\\wheels\\d4\\c8\\5b\\b5be9c20e5e4503d04a6eac8a3cd5c2393505c29f02bea0960\n",
      "Successfully built bs4\n",
      "Installing collected packages: bs4\n",
      "Successfully installed bs4-0.0.1\n",
      "Requirement already satisfied: lxml in c:\\users\\adrie\\anaconda3\\lib\\site-packages (4.9.2)\n"
     ]
    }
   ],
   "source": [
    "!pip install bs4\n",
    "!pip install  lxml"
   ]
  },
  {
   "cell_type": "code",
   "execution_count": 63,
   "metadata": {},
   "outputs": [],
   "source": [
    "import requests\n",
    "from bs4 import BeautifulSoup"
   ]
  },
  {
   "cell_type": "markdown",
   "metadata": {},
   "source": [
    "Pour transformer une requête (requests) en objet BeautifulSoup :"
   ]
  },
  {
   "cell_type": "code",
   "execution_count": 64,
   "metadata": {},
   "outputs": [],
   "source": [
    "response = requests.get(url)\n",
    "soup = BeautifulSoup(response.text)"
   ]
  },
  {
   "cell_type": "markdown",
   "metadata": {},
   "source": [
    "Il se peut qu'un message d'erreur arrive à ce point là si vous n'avez pas la librarie `lxml` installée, pour se faire vous avez juste à lancer la commande suivante : "
   ]
  },
  {
   "cell_type": "code",
   "execution_count": 65,
   "metadata": {
    "tags": []
   },
   "outputs": [
    {
     "name": "stdout",
     "output_type": "stream",
     "text": [
      "Requirement already satisfied: lxml in c:\\users\\adrie\\anaconda3\\lib\\site-packages (4.9.2)\n"
     ]
    }
   ],
   "source": [
    "!pip install lxml"
   ]
  },
  {
   "cell_type": "markdown",
   "metadata": {},
   "source": [
    "Pour trouver tous les liens d'une page on récupère la balise `a` qui permet de gérer les liens en HTML  :"
   ]
  },
  {
   "cell_type": "code",
   "execution_count": 66,
   "metadata": {
    "tags": []
   },
   "outputs": [
    {
     "data": {
      "text/plain": [
       "[<a href=\"/#content\">Aller au contenu</a>,\n",
       " <a href=\"/#menu\">Aller au menu</a>,\n",
       " <a href=\"/plan-du-site/\">Plan du site</a>,\n",
       " <a href=\"/nous-rencontrer-1\">Bien choisir son école, c'est aussi la rencontrer  ! Rendez-vous à la prochaine journée portes ouvertes le 9 décembre.</a>,\n",
       " <a href=\"/\"><img alt=\"ESIEE PARIS\" class=\"a42-ac-replace-img\" src=\"/typo3conf/ext/esiee_sitepackage/Resources/Public/imgs/svg/logo-esiee.svg\"/></a>,\n",
       " <a href=\"/brochures-1\">Brochures</a>,\n",
       " <a href=\"/informations/etudiantes-et-etudiants\">Espace élèves</a>,\n",
       " <a href=\"/\" hreflang=\"fr-FR\" title=\"Français\">\n",
       " <span>Fr</span>\n",
       " </a>,\n",
       " <a href=\"/en/\" hreflang=\"en-US\" title=\"English\">\n",
       " <span>En</span>\n",
       " </a>,\n",
       " <a href=\"/candidater-1\">Candidater</a>]"
      ]
     },
     "execution_count": 66,
     "metadata": {},
     "output_type": "execute_result"
    }
   ],
   "source": [
    "soup.find_all(\"a\")[0:10]"
   ]
  },
  {
   "cell_type": "markdown",
   "metadata": {},
   "source": [
    "On peut préciser la classe HTML voulue  pour l'ensemble des `a`:\n",
    "\n",
    "```python\n",
    "soup.find_all(class_=\"<CLASS_NAME>\")[0:10]\n",
    "```\n",
    "\n",
    "Ici par exemple: "
   ]
  },
  {
   "cell_type": "code",
   "execution_count": 67,
   "metadata": {
    "tags": []
   },
   "outputs": [
    {
     "data": {
      "text/plain": [
       "[]"
      ]
     },
     "execution_count": 67,
     "metadata": {},
     "output_type": "execute_result"
    }
   ],
   "source": [
    "soup.find_all(class_=\"slide\")[0:5]"
   ]
  },
  {
   "cell_type": "markdown",
   "metadata": {},
   "source": [
    "Pour récupérer le text sans les balises HTML :"
   ]
  },
  {
   "cell_type": "code",
   "execution_count": 68,
   "metadata": {
    "tags": []
   },
   "outputs": [
    {
     "data": {
      "text/plain": [
       "\"\\n\\n\\n\\nESIEE Paris, l'école de l'innovation technologique | ESIEE Paris\\n\\n\\n\\n\\n\\n\\n\\n\\n\\n\\n\\n\\n\\n\\n\\n\\n\\n\\n\\n\\n\\n\\n\\n\\nAller au contenu\\nAller au menu\\nPlan du site\\n\\n\\n\\n\\n\\n\\n\\nBien choisir son école, c'est aussi la rencontrer  ! Rendez-vous à la prochaine journée portes ouvertes le 9 décembre.\\n\\n\\n\\n\\n\\nMasquer l'alerte\\n\\n\\n\\n\\n\\n\\n\\n\\n\\n\\n\\n\\n\\n\\nBrochuresEspace élèves\\n\\n\\n\\nFr\\n\\n\\n\\n\\nEn\\n\\n\\n\\n\\n\\n\\n\\n\\n\\nAfficherMasquer la recherche\\r\\n\\t\\t\\n\\n\\n\\nSaisissez votre recherche\\xa0:\\n\\nLancer la recherche\\n\\n\\n\\nCandidater\\n\\nAfficherMasquer le menu\\n\\n\\n\\n\\n\\nRetour au menu principalAfficherMasquer le sous menu\\xa0: L'écolePourquoi choisir ESIEE Paris ?AfficherMasquer le sous menu\\xa0: Gouvernance et conseilsGouvernance et conseilsAfficherMasquer le sous menu\\xa0: Départements d'enseignements et de rechercheInformatique et télécommunicationsIngénierie des systèmes cyberphysiquesIngénierie industrielleSanté, énergie et environnement durableManagement, sciences humaines et languesCorps professoralAfficherMasquer le sous menu\\xa0: Salles blanchesSalles blanchesÉquipements et procédésFormatio\""
      ]
     },
     "execution_count": 68,
     "metadata": {},
     "output_type": "execute_result"
    }
   ],
   "source": [
    "soup.text[0:1000]"
   ]
  },
  {
   "cell_type": "markdown",
   "metadata": {},
   "source": [
    "## Exercice\n",
    "### Exercice 3\n",
    "\n",
    "Améliorer la classe développé précédemment.\n",
    "\n",
    "- Ajouter une méthode pour récupérer l'objet soup d'un url\n",
    "- Récupérer une liste de User Agent et effectuer une rotation aléatoire sur celui à utiliser\n",
    "- Utiliser cette classe pour parser une page HTML et récupérer : le titre, tous les H1 (si ils existent), les liens vers les images, les liens sortants vers d'autres sites, et le texte principal.\n",
    "\n",
    "Parsing d'un sitemaps pour récupérer une listes de liens avec les informations disponibles. -> Stocker dans un dictionnaire et dans un fichier JSON local."
   ]
  },
  {
   "cell_type": "code",
   "execution_count": 145,
   "metadata": {
    "tags": []
   },
   "outputs": [
    {
     "name": "stdout",
     "output_type": "stream",
     "text": [
      "www.esiee.fr\n",
      "------------------------------------------------------------------------------------------------------------------------------------------------------------------------------------\n",
      "<!DOCTYPE html>\n",
      "<html lang=\"fr-FR\">\n",
      "<head>\n",
      "\n",
      "<meta charset=\"utf-8\">\n",
      "<!-- \n",
      "\tThis website is powered by TYPO3 - inspiring people to share!\n",
      "\tTYPO3 is a free open source Content Management Framework initially created by Kasper Skaarhoj and licensed under GNU/GPL.\n",
      "\tTYPO3 is copyright 1998-2023 of Kasper Skaarhoj. Extensions are copyright of their respective owners.\n",
      "\tInformation and contribution at https://typo3.org/\n",
      "-->\n",
      "\n",
      "\n",
      "\n",
      "<title>ESIEE Paris, l&#039;école de l&#039;innovation technologique | ESIEE Paris</title>\n",
      "<meta name=\"generator\" content=\"TYPO3 CMS\" />\n",
      "<meta name=\"description\" content=\"Rejoignez ESIEE Paris, grande école d&#039;ingénieur dans les domaines des transitions numérique, énergétique et environnementale. Classée dans le groupe A, parmi les meilleures écoles d&#039;ingénieur selon le classement de l&#039;Etudiant. Habilitée par la Commission des Titres d&#039;Ingénieur (CTI). Membre de la Conférence des Grandes Ecoles (CGE). \" />\n",
      "<meta name=\"viewport\" content=\"width=device-width\n",
      "------------------------------------------------------------------------------------------------------------------------------------------------------------------------------------\n",
      "<!DOCTYPE html> <html lang=\"fr-FR\"> <head> <meta charset=\"utf-8\"> <!-- This website is powered by TYPO3 - inspiring people to share! TYPO3 is a free open source Content Management Framework initially created by Kasper Skaarhoj and licensed under GNU/GPL. TYPO3 is copyright 1998-2023 of Kasper Skaarhoj. Extensions are copyright of their respective owners. Information and contribution at https://typo3.org/ --> <title>ESIEE Paris, l&#039;école de l&#039;innovation technologique | ESIEE Paris</title> <meta name=\"generator\" content=\"TYPO3 CMS\" /> <meta name=\"description\" content=\"Rejoignez ESIEE Paris, grande école d&#039;ingénieur dans les domaines des transitions numérique, énergétique et environnementale. Classée dans le groupe A, parmi les meilleures écoles d&#039;ingénieur selon le classement de l&#039;Etudiant. Habilitée par la Commission des Titres d&#039;Ingénieur (CTI). Membre de la Conférence des Grandes Ecoles (CGE). \" /> <meta name=\"viewport\" content=\"width=device-width, user-sc\n",
      "------------------------------------------------------------------------------------------------------------------------------------------------------------------------------------\n",
      "ESIEE Paris, l'école de l'innovation technologique | ESIEE Paris Aller au contenu Aller au menu Plan du site Bien choisir son école, c'est aussi la rencontrer ! Rendez-vous à la prochaine journée portes ouvertes le 9 décembre. Masquer l'alerte Brochures Espace élèves Fr En Afficher Masquer la recherche Saisissez votre recherche : Lancer la recherche Candidater Afficher Masquer le menu Retour au menu principal Afficher Masquer le sous menu : L'école Pourquoi choisir ESIEE Paris ? Afficher Masquer le sous menu : Gouvernance et conseils Gouvernance et conseils Afficher Masquer le sous menu : Départements d'enseignements et de recherche Informatique et télécommunications Ingénierie des systèmes cyberphysiques Ingénierie industrielle Santé, énergie et environnement durable Management, sciences humaines et langues Corps professoral Afficher Masquer le sous menu : Salles blanches Salles blanches Équipements et procédés Formation Recherche Collaborations industrielles Afficher Masquer le sous \n",
      "------------------------------------------------------------------------------------------------------------------------------------------------------------------------------------\n",
      "\n",
      "\n",
      "\n",
      "\n",
      "\n",
      "ESIEE Paris, l'école de l'innovation technologique | ESIEE Paris\n",
      "\n",
      "\n",
      "\n",
      "\n",
      "\n",
      "\n",
      "\n",
      "\n",
      "\n",
      "\n",
      "\n",
      "\n",
      "\n",
      "\n",
      "\n",
      "\n",
      "\n",
      "\n",
      "\n",
      "\n",
      "\n",
      "\n",
      "\n",
      "\n",
      "Aller \n",
      "------------------------------------------------------------------------------------------------------------------------------------------------------------------------------------\n",
      "titre: [<title>ESIEE Paris, l'école de l'innovation technologique | ESIEE Paris</title>]\n",
      "------------------------------------------------------------------------------------------------------------------------------------------------------------------------------------\n",
      "H1: [<h1>\n",
      "<a href=\"/\"><img alt=\"ESIEE PARIS\" class=\"a42-ac-replace-img\" src=\"/typo3conf/ext/esiee_sitepackage/Resources/Public/imgs/svg/logo-esiee.svg\"/></a>\n",
      "</h1>]\n",
      "------------------------------------------------------------------------------------------------------------------------------------------------------------------------------------\n",
      "image: [<img alt=\"ESIEE PARIS\" class=\"a42-ac-replace-img\" src=\"/typo3conf/ext/esiee_sitepackage/Resources/Public/imgs/svg/logo-esiee.svg\"/>, <img alt=\"\" class=\"\" data-src=\"/fileadmin/_processed_/2/4/csm_ESIEE-Home-Main-Picture_ff09bd6b6e.jpg\" height=\"1080\" src=\"data:image/gif;base64,R0lGODlhAQABAIAAAP///wAAACH5BAEAAAAALAAAAAABAAEAAAICRAEAOw==\" width=\"1920\"><noscript><img alt=\"\" class=\"\" height=\"1080\" src=\"/fileadmin/_processed_/2/4/csm_ESIEE-Home-Main-Picture_ff09bd6b6e.jpg\" width=\"1920\"/></noscript></img>, <img alt=\"\" class=\"\" height=\"1080\" src=\"/fileadmin/_processed_/2/4/csm_ESIEE-Home-Main-Picture_ff09bd6b6e.jpg\" width=\"1920\"/>, <img alt=\"\" class=\"\" data-src=\"/fileadmin/_processed_/1/e/csm_eleves-groupe-galerie-1344x840_0f06698b28.jpg\" height=\"232\" src=\"data:image/gif;base64,R0lGODlhAQABAIAAAP///wAAACH5BAEAAAAALAAAAAABAAEAAAICRAEAOw==\" width=\"370\"/>, <img alt=\"\" class=\"\" height=\"232\" src=\"/fileadmin/_processed_/1/e/csm_eleves-groupe-galerie-1344x840_0f06698b28.jpg\" width=\"370\"/>]\n",
      "------------------------------------------------------------------------------------------------------------------------------------------------------------------------------------\n",
      "link: [<a href=\"/#content\">Aller au contenu</a>, <a href=\"/#menu\">Aller au menu</a>, <a href=\"/plan-du-site/\">Plan du site</a>, <a href=\"/nous-rencontrer-1\">Bien choisir son école, c'est aussi la rencontrer  ! Rendez-vous à la prochaine journée portes ouvertes le 9 décembre.</a>, <a href=\"/\"><img alt=\"ESIEE PARIS\" class=\"a42-ac-replace-img\" src=\"/typo3conf/ext/esiee_sitepackage/Resources/Public/imgs/svg/logo-esiee.svg\"/></a>]\n",
      "------------------------------------------------------------------------------------------------------------------------------------------------------------------------------------\n",
      "main text: [<p><a href=\"/nous-rencontrer-1\">Bien choisir son école, c'est aussi la rencontrer  ! Rendez-vous à la prochaine journée portes ouvertes le 9 décembre.</a></p>, <p>ESIEE Paris, n°2 <a href=\"/actualites/classements\" target=\"_blank\" title=\"Ouvre une nouvelle fenêtre\">des écoles d’ingénieurs post-bac</a> d’Ile-de-France selon le Palmarès « L’Etudiant 2023 ».</p>, <p>Bien choisir son école, c'est aussi <a href=\"/nous-rencontrer-1\" target=\"_blank\" title=\"Ouvre une nouvelle fenêtre\">la rencontrer</a> !</p>, <p><a href=\"/actualites/lesiee-cest-ladopter-journee-dimmersion-a-esiee-paris\">Journées d'immersion</a> à ESIEE Paris<br/> Mercredi 13 décembre 2023 ou mercredi 24 janvier 2024</p>, <p><a class=\"btn-primary\" href=\"/lecole/pourquoi-choisir-esiee-paris\">Pourquoi choisir ESIEE Paris ?</a> <a class=\"btn-primary\" href=\"/lecole/visite-virtuelle-esiee-paris\">Visite virtuelle</a></p>, <p>3 ou 5 ans, accès post-bac ou bac +2/3</p>, <p><strong><i class=\"fa-solid fa-code-branch\"></i> 10 filières</strong></p>, <p>3  ans, accès bac +2/3</p>, <p><strong><i class=\"fa-solid fa-code-branch\"></i> 10 filières</strong></p>, <p>18 ou 24 mois, accès bachelor, bac +4</p>]\n"
     ]
    },
    {
     "data": {
      "text/plain": [
       "59408"
      ]
     },
     "execution_count": 145,
     "metadata": {},
     "output_type": "execute_result"
    }
   ],
   "source": [
    "import requests\n",
    "from bs4 import BeautifulSoup\n",
    "import re\n",
    "from urllib.parse import urlparse\n",
    "import random\n",
    "import json\n",
    "\n",
    "class HTTPrequest:\n",
    "    \n",
    "    def __init__(self, timeOut=10, retry=3):\n",
    "        self.UserAgents = ['Mozilla/5.0 (Windows NT 6.1; Win64; x64; rv:47.0) Gecko/20100101 Firefox/47.0',\n",
    "                           'Mozilla/5.0 (Macintosh; Intel Mac OS X 10_10_1) AppleWebKit/537.36 (KHTML, like Gecko) Chrome/39.0.2171.95 Safari/537.36']\n",
    "        self.UserAgent = ''\n",
    "        self.timeOut = timeOut\n",
    "        self.retry = retry\n",
    "        self.response = None\n",
    "        self.html_txt = \"\"\n",
    "        self.txt = \"\"\n",
    "        self.url = \"\"\n",
    "        self.soup = None\n",
    "        self.title = \"\"\n",
    "        self.H1 = []\n",
    "        self.image = []\n",
    "        self.link = []\n",
    "        self.main_txt = \"\"\n",
    "        \n",
    "    def make_request(self, url):\n",
    "        try:\n",
    "            self.response = requests.get(\n",
    "                url,\n",
    "                headers={'User-Agent': random.choice(self.UserAgents)},\n",
    "                timeout=self.timeOut,\n",
    "            )\n",
    "            self.response.raise_for_status()\n",
    "            self.html_txt = self.response.text\n",
    "        except requests.exceptions.RequestException as e:\n",
    "            if self.retry > 0:\n",
    "                print(f\"Request failed. Retrying... ({self.retry} retries remaining)\")\n",
    "                self.retry -= 1\n",
    "                return self.make_request(url)\n",
    "            else:\n",
    "                print(\"Maximum retries reached. Request failed.\")\n",
    "                raise e\n",
    "    \n",
    "    def remove_extra_spaces(self):\n",
    "        return ' '.join(self.html_txt.split())\n",
    "    \n",
    "    def clean_html(self):\n",
    "        self.soup = BeautifulSoup(self.html_txt, 'html.parser')\n",
    "        text_content = self.soup.get_text(separator=' ')\n",
    "        self.text = re.sub(r'\\s+', ' ', text_content).strip()\n",
    "        return self.text\n",
    "    \n",
    "    def get_domain_from_url(self, url):\n",
    "        parsed_url = urlparse(url)\n",
    "        self.url = parsed_url.netloc\n",
    "        return self.url\n",
    "    \n",
    "    def get_soup(self):\n",
    "        return self.soup\n",
    "    \n",
    "    def extract_title(self):\n",
    "        title_tag = self.soup.find_all('title')\n",
    "        if title_tag:\n",
    "            self.title = title_tag\n",
    "        else:\n",
    "            self.title = \"No title found\"\n",
    "            \n",
    "    def extract_h1(self):\n",
    "        title_tag = self.soup.find_all('h1')\n",
    "        if title_tag:\n",
    "            self.H1 = title_tag\n",
    "        else:\n",
    "            self.H1 = \"No H1 found\"\n",
    "            \n",
    "    def extract_img(self):\n",
    "        title_tag = self.soup.find_all('img')\n",
    "        if title_tag:\n",
    "            self.image = title_tag\n",
    "        else:\n",
    "            self.image = \"No image found\"\n",
    "            \n",
    "    def extract_link(self):\n",
    "        title_tag = self.soup.find_all('a')\n",
    "        if title_tag:\n",
    "            self.link = title_tag\n",
    "        else:\n",
    "            self.link = \"No link found\"\n",
    "            \n",
    "    def extract_main(self):\n",
    "        title_tag = self.soup.find_all('p')\n",
    "        if title_tag:\n",
    "            self.main_txt = title_tag\n",
    "        else:\n",
    "            self.main_txt = \"No main text found\"\n",
    "            \n",
    "    def parse_sitemap(self):\n",
    "        sitemap_data = []\n",
    "        a = {}\n",
    "        if self.response:\n",
    "            a[f\"{self.url}\"] = {\n",
    "            \"title\": self.title,\n",
    "            \"h1_tags\": self.H1,\n",
    "            \"image_links\": self.image,\n",
    "            \"external_links\": self.link,\n",
    "            \"main_text\": self.main_txt\n",
    "            }\n",
    "            sitemap_data.append( a)\n",
    "            return sitemap_data\n",
    "            \n",
    "    def save_to_json(self, data, filename='output.json'):\n",
    "        with open(filename, 'w') as json_file:\n",
    "            return json_file.write(str(data))\n",
    "\n",
    "url = \"http://www.esiee.fr/\"\n",
    "http_requester = HTTPrequest()\n",
    "http_requester.make_request(url)\n",
    "print(http_requester.get_domain_from_url(url))\n",
    "print(\"-\"*180)\n",
    "print(http_requester.response.text[:1000])\n",
    "print(\"-\"*180)\n",
    "print(http_requester.remove_extra_spaces()[:1000])\n",
    "print(\"-\"*180)\n",
    "print(http_requester.clean_html()[:1000])\n",
    "print(\"-\"*180)\n",
    "print(http_requester.get_soup().text[:100])\n",
    "print(\"-\"*180)\n",
    "http_requester.extract_title()\n",
    "print(f\"titre: {http_requester.title}\")\n",
    "print(\"-\"*180)\n",
    "http_requester.extract_h1()\n",
    "print(f\"H1: {http_requester.H1}\")\n",
    "print(\"-\"*180)\n",
    "http_requester.extract_img()\n",
    "print(f\"image: {http_requester.image[0:5]}\")\n",
    "print(\"-\"*180)\n",
    "http_requester.extract_link()\n",
    "print(f\"link: {http_requester.link[0:5]}\")\n",
    "print(\"-\"*180)\n",
    "http_requester.extract_main()\n",
    "print(f\"main text: {http_requester.main_txt[0:10]}\")\n",
    "f = http_requester.parse_sitemap()\n",
    "http_requester.save_to_json(f)"
   ]
  },
  {
   "cell_type": "code",
   "execution_count": null,
   "metadata": {},
   "outputs": [],
   "source": []
  },
  {
   "cell_type": "markdown",
   "metadata": {},
   "source": [
    "# Exploitation des appels d'API\n"
   ]
  },
  {
   "cell_type": "markdown",
   "metadata": {},
   "source": [
    "\n",
    "Losque le front du site récupère des données sur une API géré par le back, un appel d'API est réalisé. Cet appel est recensé dans les appels réseaux. Il est alors possible de re-jouer cet appel pour récupérer à nouveau les données. Il est très facile de récupérer ces appels dans l'onglet Network de la console développeur de Chrome ou FireFox. La console vous permet de copier le code CURL pour effectuée et vous pouvez ensuite la transformer en code Python depuis le site https://curl.trillworks.com/.\n",
    "\n",
    "Souvent les APIs sont bloquées avec certain paramètres. L'API verifie que dans les headers de la requêtes HTTP ces paramètres sont présents : * un token généré à la volée avec des protocole OAuth2 (ou moins développés). * un referer provenant du site web (la source de la requête), très facile à falsifier.\n",
    "\n"
   ]
  },
  {
   "cell_type": "markdown",
   "metadata": {},
   "source": [
    "## Exercice \n",
    "### Exercice 4\n",
    "\n",
    "- Utiliser les informations développées plus haut pour récupérer les premiers résultats d'une recherche d'une requête\n",
    "sur Qwant. \n",
    "\n",
    "Tips : \n",
    "\n",
    "- Aller sur https://www.qwant.com/\n",
    "- Ouvrir les outils de développements de Chrome ou Firefox\n",
    "- Onglet Network\n",
    "- Fouiller dans les requêtes"
   ]
  },
  {
   "cell_type": "code",
   "execution_count": null,
   "metadata": {},
   "outputs": [],
   "source": []
  },
  {
   "cell_type": "markdown",
   "metadata": {},
   "source": [
    "# Exercice Final  "
   ]
  },
  {
   "cell_type": "markdown",
   "metadata": {},
   "source": [
    "Exercice Final\n",
    "Utilisez tout ce que vous avez appris pour récupérer des articles de News avec une catégorie. Il est souvent intéressant de partir des flux RSS pour commencer :\n",
    "\n",
    "Les données doivent comprendre :\n",
    "- Le texte important propre\n",
    "- L'url\n",
    "- Le domaine\n",
    "- la catégorie\n",
    "- Le titre de l'article\n",
    "- Le titre de la page\n",
    "- (Facultatif) : les images\n",
    "\n",
    "Tips : \n",
    "\n",
    "- Taper le nom de votre média favoris + RSS (par exemple : https://www.lemonde.fr/rss/)\n",
    "- Aller dans le DOM de la page \n",
    "- Trouver les catégories et les liens vers les articles"
   ]
  },
  {
   "cell_type": "code",
   "execution_count": null,
   "metadata": {},
   "outputs": [],
   "source": []
  }
 ],
 "metadata": {
  "kernelspec": {
   "display_name": "Python 3 (ipykernel)",
   "language": "python",
   "name": "python3"
  },
  "language_info": {
   "codemirror_mode": {
    "name": "ipython",
    "version": 3
   },
   "file_extension": ".py",
   "mimetype": "text/x-python",
   "name": "python",
   "nbconvert_exporter": "python",
   "pygments_lexer": "ipython3",
   "version": "3.11.3"
  }
 },
 "nbformat": 4,
 "nbformat_minor": 4
}
